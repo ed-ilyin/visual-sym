{
 "cells": [
  {
   "cell_type": "code",
   "execution_count": 1,
   "metadata": {},
   "outputs": [],
   "source": [
    "from sympy import *\n",
    "init_printing(use_unicode=True)"
   ]
  },
  {
   "cell_type": "code",
   "execution_count": 14,
   "metadata": {},
   "outputs": [
    {
     "data": {
      "text/latex": [
       "$\\displaystyle V = \\frac{4 \\pi r^{3}}{3} + \\pi r^{2} \\left(a - 2 r\\right)$"
      ],
      "text/plain": [
       "         3                 \n",
       "    4⋅π⋅r       2          \n",
       "V = ────── + π⋅r ⋅(a - 2⋅r)\n",
       "      3                    "
      ]
     },
     "execution_count": 14,
     "metadata": {},
     "output_type": "execute_result"
    }
   ],
   "source": [
    "V, r, a = symbols('V r a')\n",
    "expr_V = Eq(V, Rational(4,3)*pi*r**3+pi*r**2*(a-2*r))\n",
    "expr_V"
   ]
  },
  {
   "cell_type": "code",
   "execution_count": 16,
   "metadata": {},
   "outputs": [
    {
     "data": {
      "text/latex": [
       "$\\displaystyle a = 4 r$"
      ],
      "text/plain": [
       "a = 4⋅r"
      ]
     },
     "execution_count": 16,
     "metadata": {},
     "output_type": "execute_result"
    }
   ],
   "source": [
    "expr_a = Eq(a, 4*r)\n",
    "expr_a"
   ]
  },
  {
   "cell_type": "code",
   "execution_count": 30,
   "metadata": {},
   "outputs": [
    {
     "data": {
      "text/latex": [
       "$\\displaystyle \\left[ \\frac{a}{4}\\right]$"
      ],
      "text/plain": [
       "⎡a⎤\n",
       "⎢─⎥\n",
       "⎣4⎦"
      ]
     },
     "execution_count": 30,
     "metadata": {},
     "output_type": "execute_result"
    }
   ],
   "source": [
    "expr_r = solve(expr_a, r)\n",
    "expr_r"
   ]
  },
  {
   "cell_type": "code",
   "execution_count": 32,
   "metadata": {},
   "outputs": [
    {
     "data": {
      "text/latex": [
       "$\\displaystyle V = \\frac{10 \\pi r^{3}}{3}$"
      ],
      "text/plain": [
       "          3\n",
       "    10⋅π⋅r \n",
       "V = ───────\n",
       "       3   "
      ]
     },
     "execution_count": 32,
     "metadata": {},
     "output_type": "execute_result"
    }
   ],
   "source": [
    "expr_V.subs(a, expr_a.rhs)"
   ]
  },
  {
   "cell_type": "code",
   "execution_count": 31,
   "metadata": {},
   "outputs": [
    {
     "data": {
      "text/latex": [
       "$\\displaystyle V = \\frac{5 \\pi a^{3}}{96}$"
      ],
      "text/plain": [
       "         3\n",
       "    5⋅π⋅a \n",
       "V = ──────\n",
       "      96  "
      ]
     },
     "execution_count": 31,
     "metadata": {},
     "output_type": "execute_result"
    }
   ],
   "source": [
    "expr_V.subs(r, expr_r[0])"
   ]
  },
  {
   "cell_type": "code",
   "execution_count": 33,
   "metadata": {},
   "outputs": [
    {
     "data": {
      "text/latex": [
       "$\\displaystyle \\left( \\frac{2 \\cdot 10^{\\frac{2}{3}} \\cdot \\sqrt[3]{3} \\sqrt[3]{V}}{5 \\sqrt[3]{\\pi}}, \\  \\frac{10^{\\frac{2}{3}} \\cdot \\sqrt[3]{3} \\sqrt[3]{V}}{10 \\sqrt[3]{\\pi}}\\right)$"
      ],
      "text/plain": [
       "⎛    2/3 3 ___ 3 ___    2/3 3 ___ 3 ___⎞\n",
       "⎜2⋅10   ⋅╲╱ 3 ⋅╲╱ V   10   ⋅╲╱ 3 ⋅╲╱ V ⎟\n",
       "⎜───────────────────, ─────────────────⎟\n",
       "⎜        3 ___                3 ___    ⎟\n",
       "⎝      5⋅╲╱ π              10⋅╲╱ π     ⎠"
      ]
     },
     "execution_count": 33,
     "metadata": {},
     "output_type": "execute_result"
    }
   ],
   "source": [
    "solve_poly_system([expr_V, expr_a], a, r)[0]"
   ]
  }
 ],
 "metadata": {
  "kernelspec": {
   "display_name": "Python 3.10.6 64-bit",
   "language": "python",
   "name": "python3"
  },
  "language_info": {
   "codemirror_mode": {
    "name": "ipython",
    "version": 3
   },
   "file_extension": ".py",
   "mimetype": "text/x-python",
   "name": "python",
   "nbconvert_exporter": "python",
   "pygments_lexer": "ipython3",
   "version": "3.10.6"
  },
  "orig_nbformat": 4,
  "vscode": {
   "interpreter": {
    "hash": "b0fa6594d8f4cbf19f97940f81e996739fb7646882a419484c72d19e05852a7e"
   }
  }
 },
 "nbformat": 4,
 "nbformat_minor": 2
}
